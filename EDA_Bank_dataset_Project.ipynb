{
 "cells": [
  {
   "cell_type": "markdown",
   "metadata": {},
   "source": [
    "### EDA Project on Bank dataset\n",
    "<ol>\n",
    "<li>Read the dataset banks.csv</li>\n",
    "<li>Remove/ Handle null values(if any). Drop (few) columns if unnecessary</li>\n",
    "<li>Depict count of 'Institution Type' on a bar chart and a countplot</li>\n",
    "<li>Depict count of 'Charter Type' on a bar chart and a countplot</li>\n",
    "<li>Depict count of 'Transaction Type' on a line chart superimposed on a bar chart and a countplot</li>\n",
    "<li>Depict count of 'Insurance Fund' on pie chart</li>\n",
    "<li>Depict sum of Total Assets based on Charter Type on a bar chart</li>\n",
    "<li>Depict mean of Total Deposits based on Transaction Type on a bar chart superimposed on a line chart</li>\n",
    "<li>Depict mean of Total Deposit and Total Assets based on Charter Type on a bar chart, stacked bar chart and a line chart</li>\n",
    "<li>Derive the columns - Fail_Year, Fail_Month, Fail_Day based on Failure date field</li>\n",
    "<li>Depict Fail_Month wise mean of Total Deposits and Total Assets on a bar chart, line chart  and a scatter chart</li>\n",
    "<li>Depict Fail_Year wise sum of Estimated Loss on a horizontal bar chart</li>\n",
    "<li>Derive a column - Fail_Quarter based on Failure Date</li>\n",
    "<li>Find Fail_Quarter wise mean of Total Assets where Transaction type is 'PAYOUT'. Depict the result on a bar and a line chart superimposed</li>\n",
    "<li>Find max of Total Assets and Total Deposits based on Fail Month where Charter Type is State and Institution Type is Commercial Bank. Depict the result on a bar chart, stacked bar chart and line chart separately</li>\n",
    "<li>For the Q15, Figure out a way to depict Month Names instead of numbers on the x-axis depicting the same charts as above</li>\n",
    "<li>Find min of Total Assets and mean of Estimated Loss based on Quarter and Insurance Fund where Total Deposits is over 50000 and Institution Type is Savings Bank. Depict the result on a bar chart and stacked bar chart (unstacking is not required) separately</li>\n",
    "<li>Find min of Total Deposits and max of Estimated Loss based on Charter Type and Fail Year where Fail_Year> 2010 and Institution Name is not First State Bank .Depict the result on a stacked bar chart(unstacking is not required)\n",
    "</li>\n",
    "<li>Between the dates 1st Jan 2010 and 31st Dec 2015, find the mean of Total Deposits and Total Assets based on Charter Type and InstitutionType.Depict the result on a stacked bar chart(unstacking is not required)</li>    \n",
    "<li>Depict Charter Type based on Fail Quarter on a countplot</li>\n",
    "<li>Depict Total Assets vs Total Deposits on a joint plot with scatter kind where Fail Year>=2012 and Institution Type is Savings Association</li>\n",
    "    \n",
    "</ol>"
   ]
  },
  {
   "cell_type": "code",
   "execution_count": null,
   "metadata": {},
   "outputs": [],
   "source": []
  }
 ],
 "metadata": {
  "kernelspec": {
   "display_name": "Python 3 (ipykernel)",
   "language": "python",
   "name": "python3"
  },
  "language_info": {
   "codemirror_mode": {
    "name": "ipython",
    "version": 3
   },
   "file_extension": ".py",
   "mimetype": "text/x-python",
   "name": "python",
   "nbconvert_exporter": "python",
   "pygments_lexer": "ipython3",
   "version": "3.9.12"
  }
 },
 "nbformat": 4,
 "nbformat_minor": 2
}
